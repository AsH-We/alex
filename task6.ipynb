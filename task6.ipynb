{
 "cells": [
  {
   "cell_type": "code",
   "execution_count": null,
   "id": "initial_id",
   "metadata": {
    "collapsed": true
   },
   "outputs": [],
   "source": [
    "import numpy as np\n",
    "import tensorflow as tf\n",
    "import matplotlib.pyplot as plt\n",
    "from tensorflow.keras import layers, models"
   ]
  },
  {
   "cell_type": "code",
   "outputs": [],
   "source": [
    "alpha = 0.02\n",
    "Nx = 150     \n",
    "Nt = 2000\n",
    "Lx = 1.0\n",
    "T_final = 0.1\n",
    "f = \"ergrtgrgrg\"\n",
    "dx = Lx / (Nx - 1)\n",
    "dt = T_final / Nt\n",
    "\n",
    "x = np.linspace(0, Lx, Nx)\n",
    "u0 = np.sin(np.pi * x)\n",
    "\n",
    "u = np.copy(u0)\n",
    "for _ in range(Nt):\n",
    "    u_new = np.copy(u)\n",
    "    u_new[1:-1] = u[1:-1] + alpha * dt / dx**2 * (u[:-2] - 2*u[1:-1] + u[2:])\n",
    "    u = u_new\n",
    "\n",
    "u_t1 = u\n",
    "\n",
    "X_train = u_t1.reshape(-1, Nx, 1)\n",
    "y_train = u0.reshape(-1, Nx, 1)"
   ],
   "metadata": {
    "collapsed": false,
    "is_executing": true
   },
   "id": "154966d1d12492f"
  },
  {
   "cell_type": "code",
   "outputs": [],
   "source": [
    "def build_cnn():\n",
    "    model = models.Sequential([\n",
    "        layers.Conv1D(32, kernel_size=3, activation='relu', padding='same', input_shape=(Nx, 1)),\n",
    "        layers.Conv1D(64, kernel_size=3, activation='relu', padding='same'),\n",
    "        layers.Conv1D(32, kernel_size=3, activation='relu', padding='same'),\n",
    "        layers.Conv1D(1, kernel_size=3, activation='linear', padding='same')\n",
    "    ])\n",
    "    model.compile(optimizer='adam', loss='mse')\n",
    "    return model\n",
    "\n",
    "cnn_model = build_cnn()\n",
    "\n",
    "cnn_model.fit(X_train, y_train, epochs=100, batch_size=10, verbose=1)\n",
    "\n",
    "predicted_u0 = cnn_model.predict(X_train).flatten()\n",
    "\n",
    "plt.plot(x, u0, label=\"True Initial Condition\", linestyle='dashed')\n",
    "plt.plot(x, predicted_u0, label=\"Predicted Initial Condition\", linestyle='solid')\n",
    "plt.xlabel(\"x\")\n",
    "plt.ylabel(\"Temperature\")\n",
    "plt.legend()\n",
    "plt.show()\n"
   ],
   "metadata": {
    "collapsed": false
   },
   "id": "bcaa9efd4caf2160"
  },
  {
   "cell_type": "code",
   "outputs": [],
   "source": [
    "\n",
    "noise_level = 0.05\n",
    "X_noisy = X_train + noise_level * np.random.normal(size=X_train.shape)\n",
    "predicted_u0_noisy = cnn_model.predict(X_noisy).flatten()\n",
    "\n",
    "plt.plot(x, u0, label=\"True Initial Condition\", linestyle='dashed')\n",
    "plt.plot(x, predicted_u0_noisy, label=\"Predicted with Noise\", linestyle='solid')\n",
    "plt.xlabel(\"x\")\n",
    "plt.ylabel(\"Temperature\")\n",
    "plt.legend()\n",
    "plt.show()"
   ],
   "metadata": {
    "collapsed": false
   },
   "id": "fb222690fa98bed1"
  }
 ],
 "metadata": {
  "kernelspec": {
   "display_name": "Python 3",
   "language": "python",
   "name": "python3"
  },
  "language_info": {
   "codemirror_mode": {
    "name": "ipython",
    "version": 2
   },
   "file_extension": ".py",
   "mimetype": "text/x-python",
   "name": "python",
   "nbconvert_exporter": "python",
   "pygments_lexer": "ipython2",
   "version": "2.7.6"
  }
 },
 "nbformat": 4,
 "nbformat_minor": 5
}
